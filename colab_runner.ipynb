{
  "cells": [
    {
      "attachments": {},
      "cell_type": "markdown",
      "metadata": {},
      "source": [
        "# Colab Runner for MLDL23-Ego"
      ]
    },
    {
      "attachments": {},
      "cell_type": "markdown",
      "metadata": {
        "colab_type": "text",
        "id": "view-in-github"
      },
      "source": [
        "<a href=\"https://colab.research.google.com/github/EgovisionPolito/mldl23-ego/blob/master/colab_runner.ipynb\" target=\"_parent\"><img src=\"https://colab.research.google.com/assets/colab-badge.svg\" alt=\"Open In Colab\"/></a>"
      ]
    },
    {
      "attachments": {},
      "cell_type": "markdown",
      "metadata": {},
      "source": [
        "## EPIC-Kitchens-55 dataset\n",
        "\n",
        "**READ carefully!**\n",
        "\n",
        "To develop the project, you need to download the RGB frames for a subset of EPIC-Kitchens-55 (participants P08, P01 and P22) from [here](https://politoit-my.sharepoint.com/:f:/g/personal/simone_peirone_polito_it/EqCmaEAi2oBEqEqzBZ-pIA0Bke4EGNkUEhqwApEhUp9tDw?e=DtSbMP) (you need to login with your Polito credentials). \n",
        "\n",
        "You also need to the pretrained checkpoints for each domain from [here](https://politoit-my.sharepoint.com/:f:/g/personal/simone_peirone_polito_it/ErdsZhvmR65Lun5_5O0-l5sBTPjCCZZq2f700Tj_CNzjTQ?e=L1yflf).\n",
        "\n",
        "Upload the dataset on your Google Drive to access it from Google Colab.\n",
        "\n",
        "**NOTE**: As the dataset is quite heavy, we stronly suggest you to implement and test all your code on one for the three dataset. Then, once you are sure everything works, repeat the experiments on the remaining two datasets."
      ]
    },
    {
      "cell_type": "code",
      "execution_count": null,
      "metadata": {},
      "outputs": [],
      "source": [
        "# Mount google drive \n",
        "from google.colab import drive\n",
        "drive.mount('/content/drive')"
      ]
    },
    {
      "cell_type": "code",
      "execution_count": null,
      "metadata": {},
      "outputs": [],
      "source": [
        "%%bash\n",
        "\n",
        "# As read and write operations from google drive are slow, we suggest to copy and unzip\n",
        "# the dataset in a local directory on the Colab's machine.\n",
        "mkdir -p ek_data/frames\n",
        "\n",
        "# Copy the *.tar.gz files of Epic-Kitchens\n",
        "# TODO: replace with your path\n",
        "cp /content/drive/MyDrive/MLDL23/EPIC-Kitchens-55/data/*.tar.gz ./ek_data\n",
        "# Untar\n",
        "for file in ./ek_data/*.tar.gz; do\n",
        "  fn=$(basename $file)\n",
        "  fn=${fn/.tar.gz/}\n",
        "  ls -lah $file\n",
        "  mkdir -p ek_data/frames/$fn\n",
        "  tar xf $file --directory=ek_data/frames/$fn\n",
        "done"
      ]
    },
    {
      "attachments": {},
      "cell_type": "markdown",
      "metadata": {},
      "source": [
        "## Running the code"
      ]
    },
    {
      "cell_type": "code",
      "execution_count": null,
      "metadata": {
        "id": "31xCeYMnc67M"
      },
      "outputs": [],
      "source": [
        "# Clone the public repository (or your repository)\n",
        "!git clone https://github.com/EgovisionPolito/mldl23-ego.git mldl23-ego"
      ]
    },
    {
      "cell_type": "code",
      "execution_count": null,
      "metadata": {
        "id": "OfxNEJA1dbLD"
      },
      "outputs": [],
      "source": [
        "# Install conda on Google Colab\n",
        "\n",
        "!pip install -q condacolab\n",
        "import condacolab\n",
        "condacolab.install()"
      ]
    },
    {
      "cell_type": "code",
      "execution_count": 1,
      "metadata": {
        "id": "r9TB8gMAdoWt"
      },
      "outputs": [
        {
          "name": "stderr",
          "output_type": "stream",
          "text": [
            "\"conda\" non � riconosciuto come comando interno o esterno,\n",
            " un programma eseguibile o un file batch.\n"
          ]
        }
      ],
      "source": [
        "# Create a conda environment \n",
        "!conda env create --name egovision -f mldl23-ego/requirements.yaml"
      ]
    },
    {
      "attachments": {},
      "cell_type": "markdown",
      "metadata": {},
      "source": [
        "**TIP**: As the creation of the Conda Environment may be a slow process, you may look at the `conda-pack` package to store the environment in a .tar.gz archive you can store on Google Drive and restore later."
      ]
    },
    {
      "attachments": {},
      "cell_type": "markdown",
      "metadata": {},
      "source": [
        "## Features extraction"
      ]
    },
    {
      "cell_type": "code",
      "execution_count": null,
      "metadata": {
        "id": "88YghJyXhbfS"
      },
      "outputs": [],
      "source": [
        "%%bash\n",
        "\n",
        "cd mldl23-ego\n",
        "\n",
        "PYTHON_PATH=/usr/local/envs/egovision/bin/python\n",
        "$PYTHON_PATH save_feat.py name=change_me \\\n",
        "  config=configs/I3D_save_feat.yaml \\\n",
        "  dataset.shift=D1-D1 \\\n",
        "  dataset.RGB.data_path=../ek_data/frames "
      ]
    }
  ],
  "metadata": {
    "accelerator": "GPU",
    "colab": {
      "authorship_tag": "ABX9TyMA44pwS84HIKtaEclSmH2W",
      "include_colab_link": true,
      "provenance": []
    },
    "gpuClass": "standard",
    "kernelspec": {
      "display_name": "Python 3",
      "language": "python",
      "name": "python3"
    },
    "language_info": {
      "codemirror_mode": {
        "name": "ipython",
        "version": 3
      },
      "file_extension": ".py",
      "mimetype": "text/x-python",
      "name": "python",
      "nbconvert_exporter": "python",
      "pygments_lexer": "ipython3",
      "version": "3.11.1"
    },
    "vscode": {
      "interpreter": {
        "hash": "f0a122646812dcb03ee15ac141815fd3cf2bee98257a0de86f55e278cba5769b"
      }
    }
  },
  "nbformat": 4,
  "nbformat_minor": 0
}
