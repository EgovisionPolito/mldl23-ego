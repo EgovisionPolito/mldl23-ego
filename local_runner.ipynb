{
 "cells": [
  {
   "attachments": {},
   "cell_type": "markdown",
   "metadata": {},
   "source": [
    "steps\n",
    "\n",
    "    - In the local folder where the repo is cloned add the data folder and download all data\n",
    "    - open the Anaconda prompt (windows)\n",
    "    - update using 'conda update conda'\n",
    "    - 'conda env create --name egovision -f %%PATH OF FILE requirements.yaml%%'\n",
    "    \n",
    "     \n"
   ]
  }
 ],
 "metadata": {
  "language_info": {
   "name": "python"
  },
  "orig_nbformat": 4
 },
 "nbformat": 4,
 "nbformat_minor": 2
}
